{
 "cells": [
  {
   "cell_type": "code",
   "execution_count": 10,
   "id": "115073d5-4052-4bd9-b394-b79b66d1a540",
   "metadata": {
    "tags": []
   },
   "outputs": [
    {
     "name": "stderr",
     "output_type": "stream",
     "text": [
      "       mount [-dfrkuvw] special | mount_point (64)o options] [-t external_type] special mount_point\n"
     ]
    },
    {
     "name": "stdout",
     "output_type": "stream",
     "text": [
      "               Source  RecordYear Academic_Year_Degree_Awarded Degree_Track  \\\n",
      "0  Academic Analytics        2021                      2013-14           AB   \n",
      "1  Academic Analytics        2022                      2013-14           AB   \n",
      "2  Academic Analytics        2024                      2013-14           AB   \n",
      "3  Academic Analytics        2023                      2013-14           AB   \n",
      "4  Academic Analytics        2021                      2009-10           AB   \n",
      "\n",
      "       Degree_Descr Entity_Name Position UnitName  IPEDSID Country  \\\n",
      "0  Bachelor of Arts         NaN      NaN      NaN      NaN     NaN   \n",
      "1  Bachelor of Arts         NaN      NaN      NaN      NaN     NaN   \n",
      "2  Bachelor of Arts         NaN      NaN      NaN      NaN     NaN   \n",
      "3  Bachelor of Arts       Kawin  Founder      NaN      NaN      US   \n",
      "4  Bachelor of Arts         NaN      NaN      NaN      NaN     NaN   \n",
      "\n",
      "    Country_Name State State_Name   StudyID  \n",
      "0            NaN   NaN        NaN  COS28100  \n",
      "1            NaN   NaN        NaN  COS28100  \n",
      "2            NaN   NaN        NaN  COS28100  \n",
      "3  UNITED STATES    NY   New York  COS28100  \n",
      "4            NaN   NaN        NaN  COS24250  \n"
     ]
    }
   ],
   "source": [
    "import os\n",
    "import keyring\n",
    "import pandas as pd\n",
    "\n",
    "# Define server path and mount path\n",
    "server_path = \"smb://files/dept/InstResearch/TigerOutcomes\"\n",
    "mount_path = \"/Volumes/TigerOutcomes\"  # Where the server will be mounted on your Mac\n",
    "\n",
    "# Retrieve credentials from Keychain\n",
    "username = keyring.get_password(\"TigerOutcomes_Service\", \"username_key\")\n",
    "password = keyring.get_password(\"TigerOutcomes_Service\", \"password_key\")\n",
    "\n",
    "# Mount the server using AppleScript for SMB connection\n",
    "os.system(f\"osascript -e 'do shell script \\\"mount volume \\\\\\\"{server_path}\\\\\\\" as user name \\\\\\\"{username}\\\\\\\" with password \\\\\\\"{password}\\\\\\\"\\\"'\")\n",
    "\n",
    "# Path to the Excel file on the mounted server\n",
    "file_path = f\"{mount_path}/COS333_AcA_Student_Outcomes.xlsx\"  # Replace 'file.xlsx' with your actual file name\n",
    "\n",
    "# Read the Excel file with pandas if the server is successfully mounted\n",
    "try:\n",
    "    df = pd.read_excel(file_path)\n",
    "    print(df.head())\n",
    "except FileNotFoundError:\n",
    "    print(\"File not found. Check if the server is properly mounted.\")"
   ]
  },
  {
   "cell_type": "code",
   "execution_count": null,
   "id": "7560372c-d0c5-40e3-b615-619fb748fbee",
   "metadata": {},
   "outputs": [],
   "source": []
  }
 ],
 "metadata": {
  "kernelspec": {
   "display_name": "Python 3 (ipykernel)",
   "language": "python",
   "name": "python3"
  },
  "language_info": {
   "codemirror_mode": {
    "name": "ipython",
    "version": 3
   },
   "file_extension": ".py",
   "mimetype": "text/x-python",
   "name": "python",
   "nbconvert_exporter": "python",
   "pygments_lexer": "ipython3",
   "version": "3.11.5"
  }
 },
 "nbformat": 4,
 "nbformat_minor": 5
}
