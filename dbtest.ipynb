{
 "cells": [
  {
   "cell_type": "code",
   "execution_count": 1,
   "id": "c4a1165b-1332-4063-9b6f-5d20b9574e8c",
   "metadata": {
    "tags": []
   },
   "outputs": [
    {
     "ename": "ModuleNotFoundError",
     "evalue": "No module named 'psycopg2'",
     "output_type": "error",
     "traceback": [
      "\u001b[0;31m---------------------------------------------------------------------------\u001b[0m",
      "\u001b[0;31mModuleNotFoundError\u001b[0m                       Traceback (most recent call last)",
      "Cell \u001b[0;32mIn[1], line 4\u001b[0m\n\u001b[1;32m      1\u001b[0m \u001b[38;5;66;03m#!/usr/bin/env python\u001b[39;00m\n\u001b[1;32m      3\u001b[0m \u001b[38;5;28;01mimport\u001b[39;00m \u001b[38;5;21;01mpandas\u001b[39;00m \u001b[38;5;28;01mas\u001b[39;00m \u001b[38;5;21;01mpd\u001b[39;00m\n\u001b[0;32m----> 4\u001b[0m \u001b[38;5;28;01mimport\u001b[39;00m \u001b[38;5;21;01mpsycopg2\u001b[39;00m\n\u001b[1;32m      5\u001b[0m \u001b[38;5;28;01mfrom\u001b[39;00m \u001b[38;5;21;01mpsycopg2\u001b[39;00m \u001b[38;5;28;01mimport\u001b[39;00m sql\n\u001b[1;32m      7\u001b[0m DATABASE_URL \u001b[38;5;241m=\u001b[39m \u001b[38;5;124m'\u001b[39m\u001b[38;5;124mpostgresql://bz5989@localhost:5432/mydb\u001b[39m\u001b[38;5;124m'\u001b[39m\n",
      "\u001b[0;31mModuleNotFoundError\u001b[0m: No module named 'psycopg2'"
     ]
    }
   ],
   "source": [
    "#!/usr/bin/env python\n",
    "\n",
    "import pandas as pd\n",
    "import psycopg2\n",
    "from psycopg2 import sql\n",
    "\n",
    "DATABASE_URL = 'postgresql://bz5989@localhost:5432/mydb'\n",
    "\n",
    "# Mount path to SMB share\n",
    "smb_mount_path = \"/Volumes/TigerOutcomes/\"\n",
    "\n",
    "# xlsx files and corresponding PostgreSQL tables\n",
    "files_to_tables = {\n",
    "    \"COS333_AcA_Student_Outcomes.xlsx\": \"student_outcomes\",\n",
    "    \"COS333_Demographics.xlsx\": \"demographics\",\n",
    "    \"COS333_NSC_ST_Degrees2.xlsx\": \"st_degrees\"\n",
    "}\n",
    "\n",
    "def load_data_to_postgres(file_path, table_name):\n",
    "    # Read xlsx file into pandas df\n",
    "    df = pd.read_excel(file_path)\n",
    "\n",
    "    # Connect to PostgreSQL\n",
    "    with psycopg2.connect(DATABASE_URL) as connection:\n",
    "        cursor = connection.cursor()\n",
    "\n",
    "        for _, row in df.iterrows():\n",
    "            columns = list(df.columns)\n",
    "            values = [row[col] for col in columns]\n",
    "            insert_statement = sql.SQL(\n",
    "                \"INSERT INTO {} ({}) VALUES ({})\"\n",
    "            ).format(\n",
    "                sql.Identifier(table_name),\n",
    "                sql.SQL(', ').join(map(sql.Identifier, columns)),\n",
    "                sql.SQL(', ').join(sql.Placeholder() * len(values))\n",
    "            )\n",
    "            cursor.execute(insert_statement, values)\n",
    "\n",
    "        print(\"Data loaded\")\n",
    "\n",
    "# Load files\n",
    "for file_name, table_name in files_to_tables.items():\n",
    "    load_data_to_postgres(smb_mount_path + file_name, table_name)\n",
    "\n"
   ]
  },
  {
   "cell_type": "code",
   "execution_count": null,
   "id": "7560372c-d0c5-40e3-b615-619fb748fbee",
   "metadata": {},
   "outputs": [],
   "source": []
  }
 ],
 "metadata": {
  "kernelspec": {
   "display_name": "Python 3 (ipykernel)",
   "language": "python",
   "name": "python3"
  },
  "language_info": {
   "codemirror_mode": {
    "name": "ipython",
    "version": 3
   },
   "file_extension": ".py",
   "mimetype": "text/x-python",
   "name": "python",
   "nbconvert_exporter": "python",
   "pygments_lexer": "ipython3",
   "version": "3.11.5"
  }
 },
 "nbformat": 4,
 "nbformat_minor": 5
}
