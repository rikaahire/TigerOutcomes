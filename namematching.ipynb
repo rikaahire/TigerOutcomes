{
 "cells": [
  {
   "cell_type": "code",
   "execution_count": 1,
   "id": "4c6c26c7-f786-45c4-bb3c-4d12bc1704df",
   "metadata": {
    "tags": []
   },
   "outputs": [
    {
     "name": "stdout",
     "output_type": "stream",
     "text": [
      "TF-IDF Cosine Similarity Scores: [0.3096371820080698, 0.0, 0.35541083347483243, 0.0]\n"
     ]
    }
   ],
   "source": [
    "from sklearn.feature_extraction.text import TfidfVectorizer\n",
    "from sklearn.metrics.pairwise import cosine_similarity\n",
    "\n",
    "def cosine_similarity_tfidf(target, job_titles):\n",
    "    # Vectorize the target and job titles together\n",
    "    vectorizer = TfidfVectorizer()\n",
    "    vectors = vectorizer.fit_transform([target] + job_titles)\n",
    "    \n",
    "    # Calculate cosine similarity between target and each job title\n",
    "    target_vector = vectors[0]  # The first vector is for the target\n",
    "    similarity_scores = cosine_similarity(target_vector, vectors[1:])[0]  # Compare target to each job title\n",
    "\n",
    "    # Return similarity scores as a list\n",
    "    return similarity_scores.tolist()\n",
    "\n",
    "# Example usage\n",
    "target_job = \"Data Scientist\"\n",
    "job_titles_list = [\"Data Analyst\", \"Machine Learning Engineer\", \"Data Engineer\", \"Software Developer\"]\n",
    "tfidf_scores = cosine_similarity_tfidf(target_job, job_titles_list)\n",
    "print(\"TF-IDF Cosine Similarity Scores:\", tfidf_scores)\n"
   ]
  },
  {
   "cell_type": "code",
   "execution_count": 2,
   "id": "600255f4-36b2-4449-92db-92d1e17097e7",
   "metadata": {
    "tags": []
   },
   "outputs": [
    {
     "name": "stdout",
     "output_type": "stream",
     "text": [
      "BoW Cosine Similarity Scores: [0.4999999999999999, 0.0, 0.4999999999999999, 0.0]\n"
     ]
    }
   ],
   "source": [
    "from sklearn.feature_extraction.text import CountVectorizer\n",
    "\n",
    "def cosine_similarity_bow(target, job_titles):\n",
    "    # Vectorize the target and job titles together\n",
    "    vectorizer = CountVectorizer()\n",
    "    vectors = vectorizer.fit_transform([target] + job_titles)\n",
    "    \n",
    "    # Calculate cosine similarity between target and each job title\n",
    "    target_vector = vectors[0]  # The first vector is for the target\n",
    "    similarity_scores = cosine_similarity(target_vector, vectors[1:])[0]  # Compare target to each job title\n",
    "\n",
    "    # Return similarity scores as a list\n",
    "    return similarity_scores.tolist()\n",
    "\n",
    "# Example usage\n",
    "bow_scores = cosine_similarity_bow(target_job, job_titles_list)\n",
    "print(\"BoW Cosine Similarity Scores:\", bow_scores)\n"
   ]
  },
  {
   "cell_type": "code",
   "execution_count": null,
   "id": "1b7f0c87-a021-4220-8dec-f16cb1c9ab04",
   "metadata": {
    "tags": []
   },
   "outputs": [],
   "source": [
    "import numpy as np\n",
    "from gensim.models import KeyedVectors\n",
    "from sklearn.metrics.pairwise import cosine_similarity\n",
    "\n",
    "# Load pre-trained word embeddings (e.g., GloVe, Word2Vec)\n",
    "# Make sure to point to the correct path to your embeddings file\n",
    "# e.g., word_vectors = KeyedVectors.load_word2vec_format(\"path/to/glove.6B.100d.txt\", binary=False)\n",
    "word_vectors = KeyedVectors.load_word2vec_format(\"path/to/glove.6B.100d.txt\", binary=False)\n",
    "\n",
    "def average_word_embeddings(text, model, vector_size=100):\n",
    "    # Generate average word embeddings for the input text\n",
    "    words = text.lower().split()\n",
    "    embeddings = [model[word] for word in words if word in model]\n",
    "    if embeddings:\n",
    "        return np.mean(embeddings, axis=0)\n",
    "    else:\n",
    "        return np.zeros(vector_size)\n",
    "\n",
    "def cosine_similarity_word_embeddings(target, job_titles, model, vector_size=100):\n",
    "    # Get the embedding for the target title\n",
    "    target_vector = average_word_embeddings(target, model, vector_size).reshape(1, -1)\n",
    "    \n",
    "    # Calculate cosine similarity between the target and each job title\n",
    "    similarity_scores = []\n",
    "    for title in job_titles:\n",
    "        title_vector = average_word_embeddings(title, model, vector_size).reshape(1, -1)\n",
    "        score = cosine_similarity(target_vector, title_vector)[0][0]\n",
    "        similarity_scores.append(score)\n",
    "    \n",
    "    return similarity_scores\n",
    "\n",
    "# Example usage\n",
    "embedding_scores = cosine_similarity_word_embeddings(target_job, job_titles_list, word_vectors, vector_size=100)\n",
    "print(\"Word Embeddings Cosine Similarity Scores:\", embedding_scores)\n"
   ]
  },
  {
   "cell_type": "code",
   "execution_count": null,
   "id": "14ee4792-7e3b-4026-a7be-42a3e416ed3a",
   "metadata": {},
   "outputs": [],
   "source": []
  }
 ],
 "metadata": {
  "kernelspec": {
   "display_name": "Python 3 (ipykernel)",
   "language": "python",
   "name": "python3"
  },
  "language_info": {
   "codemirror_mode": {
    "name": "ipython",
    "version": 3
   },
   "file_extension": ".py",
   "mimetype": "text/x-python",
   "name": "python",
   "nbconvert_exporter": "python",
   "pygments_lexer": "ipython3",
   "version": "3.11.5"
  }
 },
 "nbformat": 4,
 "nbformat_minor": 5
}
